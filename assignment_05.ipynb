{
  "nbformat": 4,
  "nbformat_minor": 0,
  "metadata": {
    "colab": {
      "provenance": []
    },
    "kernelspec": {
      "name": "python3",
      "display_name": "Python 3"
    },
    "language_info": {
      "name": "python"
    }
  },
  "cells": [
    {
      "cell_type": "markdown",
      "source": [
        "Answer 1-----------------------> An empty dictionary code looks like \"{}\" this with two curly brackets."
      ],
      "metadata": {
        "id": "f3poLEs7-0A7"
      }
    },
    {
      "cell_type": "markdown",
      "source": [
        "Answer 2-----------------------> {'foo': 42} This is the dictionary value with the key 'foo' and the value 42."
      ],
      "metadata": {
        "id": "jfHfG-nd-5wy"
      }
    },
    {
      "cell_type": "markdown",
      "source": [
        "Answer 3-----------------------> List contains ordered items whereas dictionary contains unordered items."
      ],
      "metadata": {
        "id": "-gK1JS16--bS"
      }
    },
    {
      "cell_type": "markdown",
      "source": [
        "Answer 4-----------------------> If we try to get spam{'foo'} if spam is {'bar':100}, we get a KeyError error."
      ],
      "metadata": {
        "id": "6TdCRDhQ_Aei"
      }
    },
    {
      "cell_type": "markdown",
      "source": [
        "Answer 5-----------------------> No difference as the operator will check if there is any key named 'cat' in a dictionary."
      ],
      "metadata": {
        "id": "Im19o5UL_Bvi"
      }
    },
    {
      "cell_type": "markdown",
      "source": [
        "Answer 6-----------------------> cat in spam will check if we have any key names 'cat'. cat in spam.values will check if cat is a value for any of the keys in spam."
      ],
      "metadata": {
        "id": "OanDAM7d_DMz"
      }
    },
    {
      "cell_type": "markdown",
      "source": [
        "Answer 7-----------------------> spam.setdefault('color', 'black')"
      ],
      "metadata": {
        "id": "8N1S0ieu_EaS"
      }
    },
    {
      "cell_type": "markdown",
      "source": [
        "Answer 8-----------------------> pprint.pprint()"
      ],
      "metadata": {
        "id": "6WNW1IkT_Fga"
      }
    }
  ]
}