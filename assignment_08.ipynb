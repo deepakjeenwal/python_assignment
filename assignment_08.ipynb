{
  "nbformat": 4,
  "nbformat_minor": 0,
  "metadata": {
    "colab": {
      "provenance": []
    },
    "kernelspec": {
      "name": "python3",
      "display_name": "Python 3"
    },
    "language_info": {
      "name": "python"
    }
  },
  "cells": [
    {
      "cell_type": "markdown",
      "source": [
        "Answer 1-------------------------> If we define a function ourselves, that is known as user-defined functions. The functions that are already defined and come with python are called as user defied functions.\n",
        "\n"
      ],
      "metadata": {
        "id": "tNi5c5Lsbk_W"
      }
    },
    {
      "cell_type": "code",
      "source": [
        "def area_of_rectangle(l,w):\n",
        "  area= l*w\n",
        "  return area\n",
        "\n",
        "\n",
        "a=12\n",
        "b=15\n",
        "print(\"The area of a rectangle is\", area_of_rectangle(a, b))"
      ],
      "metadata": {
        "colab": {
          "base_uri": "https://localhost:8080/"
        },
        "id": "C1r1Csssc7FW",
        "outputId": "2fdc87e4-720e-4379-f5d5-636f5b9219b2"
      },
      "execution_count": 4,
      "outputs": [
        {
          "output_type": "stream",
          "name": "stdout",
          "text": [
            "The area of a rectangle is 180\n"
          ]
        }
      ]
    },
    {
      "cell_type": "markdown",
      "source": [
        "In above example, area_of_rectangle is a user defined function. Where as print is a built-in function."
      ],
      "metadata": {
        "id": "AN2E9U_WdAKu"
      }
    },
    {
      "cell_type": "markdown",
      "source": [
        "Answer 2-------------------------> We can pass arguments to a function inside parentheses. def area_of_rectangle(l,w):------ In this example, l and w are the arguments that are passed in a function called area_of_rectangle.\n",
        "\n",
        "> Positional arguments are arguments that need to be included in the proper position or order.The first positional argument always needs to be listed first when the function is called. The second positional argument needs to be listed second and the third positional argument listed third, etc.\n",
        "\n",
        "> A keyword argument is an argument passed to a function or method which is preceded by a keyword and an equals sign.Where function is the function name, keyword is the keyword argument and value is the value or object passed as that keyword.\n",
        "\n",
        "\n",
        "\n"
      ],
      "metadata": {
        "id": "e8FnRy8Obo-F"
      }
    },
    {
      "cell_type": "markdown",
      "source": [
        "Answer 3-------------------------> A return statement ends the execution of a function, and returns control to the calling function. A return statement can return a value to the calling function for further use.\n",
        "> We can have multiple return statements seperatd by comma.\n",
        "In condional statements, we can more than 1 return statements. We can have one return statement for condition that is fulfilled, one for failed and one as a default.\n",
        "\n",
        "\n",
        "\n"
      ],
      "metadata": {
        "id": "xMWJG5UCbrNV"
      }
    },
    {
      "cell_type": "markdown",
      "source": [
        "Answer 4-------------------------> Lambda functions are user dfined functions but without name. They are very useful for simple tasks which do not include complex structures like loops etc. We can use the apply function with lambda keyword as in below example."
      ],
      "metadata": {
        "id": "vfO8mhIfbsnu"
      }
    },
    {
      "cell_type": "code",
      "source": [
        "import pandas as pd\n",
        "\n",
        "df = pd.DataFrame(\n",
        "    {\"name\": [\"IBRAHIM\", \"SEGUN\", \"YUSUF\", \"DARE\", \"BOLA\", \"SOKUNBI\"],\n",
        "     \"score\": [50, 32, 45, 45, 23, 45]\n",
        "    }\n",
        ")\n",
        "df[\"lower_name\"] = df[\"name\"].apply(lambda x: x.lower())\n",
        "df"
      ],
      "metadata": {
        "colab": {
          "base_uri": "https://localhost:8080/",
          "height": 238
        },
        "id": "KPyHD4FLhVpU",
        "outputId": "50c8beed-91b3-42ea-a12e-c98c8ccf9e0d"
      },
      "execution_count": 6,
      "outputs": [
        {
          "output_type": "execute_result",
          "data": {
            "text/plain": [
              "      name  score lower_name\n",
              "0  IBRAHIM     50    ibrahim\n",
              "1    SEGUN     32      segun\n",
              "2    YUSUF     45      yusuf\n",
              "3     DARE     45       dare\n",
              "4     BOLA     23       bola\n",
              "5  SOKUNBI     45    sokunbi"
            ],
            "text/html": [
              "\n",
              "  <div id=\"df-e11967bc-0aad-413d-9862-fefbabd38c06\" class=\"colab-df-container\">\n",
              "    <div>\n",
              "<style scoped>\n",
              "    .dataframe tbody tr th:only-of-type {\n",
              "        vertical-align: middle;\n",
              "    }\n",
              "\n",
              "    .dataframe tbody tr th {\n",
              "        vertical-align: top;\n",
              "    }\n",
              "\n",
              "    .dataframe thead th {\n",
              "        text-align: right;\n",
              "    }\n",
              "</style>\n",
              "<table border=\"1\" class=\"dataframe\">\n",
              "  <thead>\n",
              "    <tr style=\"text-align: right;\">\n",
              "      <th></th>\n",
              "      <th>name</th>\n",
              "      <th>score</th>\n",
              "      <th>lower_name</th>\n",
              "    </tr>\n",
              "  </thead>\n",
              "  <tbody>\n",
              "    <tr>\n",
              "      <th>0</th>\n",
              "      <td>IBRAHIM</td>\n",
              "      <td>50</td>\n",
              "      <td>ibrahim</td>\n",
              "    </tr>\n",
              "    <tr>\n",
              "      <th>1</th>\n",
              "      <td>SEGUN</td>\n",
              "      <td>32</td>\n",
              "      <td>segun</td>\n",
              "    </tr>\n",
              "    <tr>\n",
              "      <th>2</th>\n",
              "      <td>YUSUF</td>\n",
              "      <td>45</td>\n",
              "      <td>yusuf</td>\n",
              "    </tr>\n",
              "    <tr>\n",
              "      <th>3</th>\n",
              "      <td>DARE</td>\n",
              "      <td>45</td>\n",
              "      <td>dare</td>\n",
              "    </tr>\n",
              "    <tr>\n",
              "      <th>4</th>\n",
              "      <td>BOLA</td>\n",
              "      <td>23</td>\n",
              "      <td>bola</td>\n",
              "    </tr>\n",
              "    <tr>\n",
              "      <th>5</th>\n",
              "      <td>SOKUNBI</td>\n",
              "      <td>45</td>\n",
              "      <td>sokunbi</td>\n",
              "    </tr>\n",
              "  </tbody>\n",
              "</table>\n",
              "</div>\n",
              "    <div class=\"colab-df-buttons\">\n",
              "\n",
              "  <div class=\"colab-df-container\">\n",
              "    <button class=\"colab-df-convert\" onclick=\"convertToInteractive('df-e11967bc-0aad-413d-9862-fefbabd38c06')\"\n",
              "            title=\"Convert this dataframe to an interactive table.\"\n",
              "            style=\"display:none;\">\n",
              "\n",
              "  <svg xmlns=\"http://www.w3.org/2000/svg\" height=\"24px\" viewBox=\"0 -960 960 960\">\n",
              "    <path d=\"M120-120v-720h720v720H120Zm60-500h600v-160H180v160Zm220 220h160v-160H400v160Zm0 220h160v-160H400v160ZM180-400h160v-160H180v160Zm440 0h160v-160H620v160ZM180-180h160v-160H180v160Zm440 0h160v-160H620v160Z\"/>\n",
              "  </svg>\n",
              "    </button>\n",
              "\n",
              "  <style>\n",
              "    .colab-df-container {\n",
              "      display:flex;\n",
              "      gap: 12px;\n",
              "    }\n",
              "\n",
              "    .colab-df-convert {\n",
              "      background-color: #E8F0FE;\n",
              "      border: none;\n",
              "      border-radius: 50%;\n",
              "      cursor: pointer;\n",
              "      display: none;\n",
              "      fill: #1967D2;\n",
              "      height: 32px;\n",
              "      padding: 0 0 0 0;\n",
              "      width: 32px;\n",
              "    }\n",
              "\n",
              "    .colab-df-convert:hover {\n",
              "      background-color: #E2EBFA;\n",
              "      box-shadow: 0px 1px 2px rgba(60, 64, 67, 0.3), 0px 1px 3px 1px rgba(60, 64, 67, 0.15);\n",
              "      fill: #174EA6;\n",
              "    }\n",
              "\n",
              "    .colab-df-buttons div {\n",
              "      margin-bottom: 4px;\n",
              "    }\n",
              "\n",
              "    [theme=dark] .colab-df-convert {\n",
              "      background-color: #3B4455;\n",
              "      fill: #D2E3FC;\n",
              "    }\n",
              "\n",
              "    [theme=dark] .colab-df-convert:hover {\n",
              "      background-color: #434B5C;\n",
              "      box-shadow: 0px 1px 3px 1px rgba(0, 0, 0, 0.15);\n",
              "      filter: drop-shadow(0px 1px 2px rgba(0, 0, 0, 0.3));\n",
              "      fill: #FFFFFF;\n",
              "    }\n",
              "  </style>\n",
              "\n",
              "    <script>\n",
              "      const buttonEl =\n",
              "        document.querySelector('#df-e11967bc-0aad-413d-9862-fefbabd38c06 button.colab-df-convert');\n",
              "      buttonEl.style.display =\n",
              "        google.colab.kernel.accessAllowed ? 'block' : 'none';\n",
              "\n",
              "      async function convertToInteractive(key) {\n",
              "        const element = document.querySelector('#df-e11967bc-0aad-413d-9862-fefbabd38c06');\n",
              "        const dataTable =\n",
              "          await google.colab.kernel.invokeFunction('convertToInteractive',\n",
              "                                                    [key], {});\n",
              "        if (!dataTable) return;\n",
              "\n",
              "        const docLinkHtml = 'Like what you see? Visit the ' +\n",
              "          '<a target=\"_blank\" href=https://colab.research.google.com/notebooks/data_table.ipynb>data table notebook</a>'\n",
              "          + ' to learn more about interactive tables.';\n",
              "        element.innerHTML = '';\n",
              "        dataTable['output_type'] = 'display_data';\n",
              "        await google.colab.output.renderOutput(dataTable, element);\n",
              "        const docLink = document.createElement('div');\n",
              "        docLink.innerHTML = docLinkHtml;\n",
              "        element.appendChild(docLink);\n",
              "      }\n",
              "    </script>\n",
              "  </div>\n",
              "\n",
              "\n",
              "<div id=\"df-3afafbd6-34a9-4922-9b2a-e0e752d71432\">\n",
              "  <button class=\"colab-df-quickchart\" onclick=\"quickchart('df-3afafbd6-34a9-4922-9b2a-e0e752d71432')\"\n",
              "            title=\"Suggest charts.\"\n",
              "            style=\"display:none;\">\n",
              "\n",
              "<svg xmlns=\"http://www.w3.org/2000/svg\" height=\"24px\"viewBox=\"0 0 24 24\"\n",
              "     width=\"24px\">\n",
              "    <g>\n",
              "        <path d=\"M19 3H5c-1.1 0-2 .9-2 2v14c0 1.1.9 2 2 2h14c1.1 0 2-.9 2-2V5c0-1.1-.9-2-2-2zM9 17H7v-7h2v7zm4 0h-2V7h2v10zm4 0h-2v-4h2v4z\"/>\n",
              "    </g>\n",
              "</svg>\n",
              "  </button>\n",
              "\n",
              "<style>\n",
              "  .colab-df-quickchart {\n",
              "      --bg-color: #E8F0FE;\n",
              "      --fill-color: #1967D2;\n",
              "      --hover-bg-color: #E2EBFA;\n",
              "      --hover-fill-color: #174EA6;\n",
              "      --disabled-fill-color: #AAA;\n",
              "      --disabled-bg-color: #DDD;\n",
              "  }\n",
              "\n",
              "  [theme=dark] .colab-df-quickchart {\n",
              "      --bg-color: #3B4455;\n",
              "      --fill-color: #D2E3FC;\n",
              "      --hover-bg-color: #434B5C;\n",
              "      --hover-fill-color: #FFFFFF;\n",
              "      --disabled-bg-color: #3B4455;\n",
              "      --disabled-fill-color: #666;\n",
              "  }\n",
              "\n",
              "  .colab-df-quickchart {\n",
              "    background-color: var(--bg-color);\n",
              "    border: none;\n",
              "    border-radius: 50%;\n",
              "    cursor: pointer;\n",
              "    display: none;\n",
              "    fill: var(--fill-color);\n",
              "    height: 32px;\n",
              "    padding: 0;\n",
              "    width: 32px;\n",
              "  }\n",
              "\n",
              "  .colab-df-quickchart:hover {\n",
              "    background-color: var(--hover-bg-color);\n",
              "    box-shadow: 0 1px 2px rgba(60, 64, 67, 0.3), 0 1px 3px 1px rgba(60, 64, 67, 0.15);\n",
              "    fill: var(--button-hover-fill-color);\n",
              "  }\n",
              "\n",
              "  .colab-df-quickchart-complete:disabled,\n",
              "  .colab-df-quickchart-complete:disabled:hover {\n",
              "    background-color: var(--disabled-bg-color);\n",
              "    fill: var(--disabled-fill-color);\n",
              "    box-shadow: none;\n",
              "  }\n",
              "\n",
              "  .colab-df-spinner {\n",
              "    border: 2px solid var(--fill-color);\n",
              "    border-color: transparent;\n",
              "    border-bottom-color: var(--fill-color);\n",
              "    animation:\n",
              "      spin 1s steps(1) infinite;\n",
              "  }\n",
              "\n",
              "  @keyframes spin {\n",
              "    0% {\n",
              "      border-color: transparent;\n",
              "      border-bottom-color: var(--fill-color);\n",
              "      border-left-color: var(--fill-color);\n",
              "    }\n",
              "    20% {\n",
              "      border-color: transparent;\n",
              "      border-left-color: var(--fill-color);\n",
              "      border-top-color: var(--fill-color);\n",
              "    }\n",
              "    30% {\n",
              "      border-color: transparent;\n",
              "      border-left-color: var(--fill-color);\n",
              "      border-top-color: var(--fill-color);\n",
              "      border-right-color: var(--fill-color);\n",
              "    }\n",
              "    40% {\n",
              "      border-color: transparent;\n",
              "      border-right-color: var(--fill-color);\n",
              "      border-top-color: var(--fill-color);\n",
              "    }\n",
              "    60% {\n",
              "      border-color: transparent;\n",
              "      border-right-color: var(--fill-color);\n",
              "    }\n",
              "    80% {\n",
              "      border-color: transparent;\n",
              "      border-right-color: var(--fill-color);\n",
              "      border-bottom-color: var(--fill-color);\n",
              "    }\n",
              "    90% {\n",
              "      border-color: transparent;\n",
              "      border-bottom-color: var(--fill-color);\n",
              "    }\n",
              "  }\n",
              "</style>\n",
              "\n",
              "  <script>\n",
              "    async function quickchart(key) {\n",
              "      const quickchartButtonEl =\n",
              "        document.querySelector('#' + key + ' button');\n",
              "      quickchartButtonEl.disabled = true;  // To prevent multiple clicks.\n",
              "      quickchartButtonEl.classList.add('colab-df-spinner');\n",
              "      try {\n",
              "        const charts = await google.colab.kernel.invokeFunction(\n",
              "            'suggestCharts', [key], {});\n",
              "      } catch (error) {\n",
              "        console.error('Error during call to suggestCharts:', error);\n",
              "      }\n",
              "      quickchartButtonEl.classList.remove('colab-df-spinner');\n",
              "      quickchartButtonEl.classList.add('colab-df-quickchart-complete');\n",
              "    }\n",
              "    (() => {\n",
              "      let quickchartButtonEl =\n",
              "        document.querySelector('#df-3afafbd6-34a9-4922-9b2a-e0e752d71432 button');\n",
              "      quickchartButtonEl.style.display =\n",
              "        google.colab.kernel.accessAllowed ? 'block' : 'none';\n",
              "    })();\n",
              "  </script>\n",
              "</div>\n",
              "    </div>\n",
              "  </div>\n"
            ]
          },
          "metadata": {},
          "execution_count": 6
        }
      ]
    },
    {
      "cell_type": "markdown",
      "source": [
        "Answer 5-------------------------> All variables in a program may not be accessible at all locations in that program. This depends on where you have declared a variable. The scope of a variable determines the portion of the program where you can access a particular identifier\n",
        "\n",
        "> Global variables are useful for values that are relatively constant, or that many functions in the script must access, such as a session id. Global variable can be accessed from any location in the programme. A local variable, however, has a local i.e limited scope: it exists only within the block that it is declared in. Once that block ends, the variable is destroyed and its values lost .\n",
        "\n"
      ],
      "metadata": {
        "id": "D-lRFid6buA9"
      }
    },
    {
      "cell_type": "markdown",
      "source": [
        "Answer 6-------------------------> We can have multiple return statements seperatd by comma.\n",
        "In condional statements, we can more than 1 return statements. We can have one return statement for condition that is fulfilled, one for failed and one as a default.\n"
      ],
      "metadata": {
        "id": "LCIOxKgabykf"
      }
    },
    {
      "cell_type": "markdown",
      "source": [
        "Answer 7-------------------------> Pass by reference means that we have to pass the function(reference) to a variable which refers that the variable already exists in memory. Any operation performed by the function on the variable or the object will be directly reflected by the function caller. For instance, the function could completely change the variable’s content, and point it at a completely different object:\n",
        "\n",
        "> In this approach, we pass a copy of actual variables in function as a parameter. Hence any modification on parameters inside the function will not reflect in the actual variable. In this case, the copies of the variables and the objects in the context of the caller of the function are completely isolated.\n",
        "\n"
      ],
      "metadata": {
        "id": "SLIOsrFYbzwO"
      }
    },
    {
      "cell_type": "markdown",
      "source": [
        "Answer 8------------------------->"
      ],
      "metadata": {
        "id": "t02TDJoLb0yO"
      }
    },
    {
      "cell_type": "code",
      "source": [
        "import math\n",
        "a= float(input(\"Please enter the number\"))\n",
        "def math_operations(a):\n",
        "  print(f\"The logarithmic value of {a} is {math.log(a)}\")\n",
        "  print(f\"The Exponential value of {a} is {math.exp(a)}\")\n",
        "  print(f\"The Power of {a} is {pow(a,2)}\")\n",
        "  print(f\"The Square root value of {a} is {math.sqrt(a)}\")\n",
        "\n",
        "math_operations(a)\n",
        "\n",
        ""
      ],
      "metadata": {
        "colab": {
          "base_uri": "https://localhost:8080/"
        },
        "id": "2yWCx4T2lgH4",
        "outputId": "065fce83-9973-4fe1-9153-d685ebf388f0"
      },
      "execution_count": 17,
      "outputs": [
        {
          "output_type": "stream",
          "name": "stdout",
          "text": [
            "Please enter the number12\n",
            "The logarithmic value of 12.0 is 2.4849066497880004\n",
            "The Exponential value of 12.0 is 162754.79141900392\n",
            "The Power of 12.0 is 144.0\n",
            "The Square root value of 12.0 is 3.4641016151377544\n"
          ]
        }
      ]
    },
    {
      "cell_type": "markdown",
      "source": [
        "Answer 9------------------------->"
      ],
      "metadata": {
        "id": "NVpOby0Ab13e"
      }
    },
    {
      "cell_type": "code",
      "source": [
        "\n",
        "def fname_lname():\n",
        "  person_name= input(\"Please enter your full name as first name and  last name.\")\n",
        "  first=person_name.split()[0]\n",
        "  last=person_name.split()[-1]\n",
        "  print(f\"First name is {first} and last name is {last}\" )\n",
        "\n",
        "fname_lname()\n"
      ],
      "metadata": {
        "colab": {
          "base_uri": "https://localhost:8080/"
        },
        "id": "B6dN1zBjq0Lh",
        "outputId": "3ddb2745-ffe6-42f3-ad23-f6b8e04d4178"
      },
      "execution_count": 30,
      "outputs": [
        {
          "output_type": "stream",
          "name": "stdout",
          "text": [
            "Please enter your full name as first name and  last name.Deepak Jeenwal\n",
            "First name is Deepak and last name is Jeenwal\n"
          ]
        }
      ]
    }
  ]
}