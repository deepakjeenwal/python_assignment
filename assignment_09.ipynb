{
  "nbformat": 4,
  "nbformat_minor": 0,
  "metadata": {
    "colab": {
      "provenance": []
    },
    "kernelspec": {
      "name": "python3",
      "display_name": "Python 3"
    },
    "language_info": {
      "name": "python"
    }
  },
  "cells": [
    {
      "cell_type": "markdown",
      "source": [
        "Answer 1--------------------------------> Lambda functions are user defined functions but without a name. These can be useful for executing simple tasks or expressions. Regular functions will always has its name whereas lambda functions are anonymous."
      ],
      "metadata": {
        "id": "9xO-xBvgylX2"
      }
    },
    {
      "cell_type": "markdown",
      "source": [
        "Answer 2--------------------------------> Lambda functions can certainly take any number of arguments, but it can only have one expresion.Regardless of how many arguments you use with lambda, it always returns a single value. For dealing with multiple arguments, we can take those arguments in a list and can use them from there."
      ],
      "metadata": {
        "id": "qdPrFwQ3yuG1"
      }
    },
    {
      "cell_type": "markdown",
      "source": [
        "Answer 3--------------------------------> In python, lambda functions are generally used for executing a small and simple expresstions. We don’t need to specify a name for the function. For example lets consider below example:"
      ],
      "metadata": {
        "id": "z_KGjtnxyuPU"
      }
    },
    {
      "cell_type": "code",
      "source": [
        "squares = lambda x: x*x\n",
        "print('Using lambda: ', squares(5))"
      ],
      "metadata": {
        "colab": {
          "base_uri": "https://localhost:8080/"
        },
        "id": "b1anjhM-1qIc",
        "outputId": "a595c10f-5cf4-46ab-a181-398223ea694b"
      },
      "execution_count": 1,
      "outputs": [
        {
          "output_type": "stream",
          "name": "stdout",
          "text": [
            "Using lambda:  25\n"
          ]
        }
      ]
    },
    {
      "cell_type": "code",
      "source": [
        "mylist = [2,3,4,5,6,7,8,9,10]\n",
        "list_new  = list(filter(lambda x : (x%2==0), mylist))\n",
        "print(list_new)"
      ],
      "metadata": {
        "colab": {
          "base_uri": "https://localhost:8080/"
        },
        "id": "rkCPg84d2Bqz",
        "outputId": "649b79a0-4fb2-439f-d26c-eb13671cb728"
      },
      "execution_count": 2,
      "outputs": [
        {
          "output_type": "stream",
          "name": "stdout",
          "text": [
            "[2, 4, 6, 8, 10]\n"
          ]
        }
      ]
    },
    {
      "cell_type": "markdown",
      "source": [
        "In the above example we have used lambda function with a filter(). Similarly, we can use lambda function with map(), reduce() etc."
      ],
      "metadata": {
        "id": "jf-ysid82EV7"
      }
    },
    {
      "cell_type": "markdown",
      "source": [
        "Answer 4--------------------------------> The main ways lambda expressions are different from def:\n",
        "\n",
        "1)They can be immediately passed around (no variable needed)\n",
        "2)They can only have a single line of code within them\n",
        "3)They return automatically\n",
        "4)They can’t have a docstring and they don’t have a name\n",
        "5)They use a different and unfamiliar syntax.\n",
        "\n",
        "> Limitation is that it  can only have one line of code. Also, its unnfamiliar syntax is a bit confusing at times.  But the advantage is that it can return automatically and can be passed around without needing a variable.\n",
        "\n"
      ],
      "metadata": {
        "id": "6NJOzGYLyuUk"
      }
    },
    {
      "cell_type": "markdown",
      "source": [
        "Answer 5--------------------------------> A lambda expression introduces a new local scope for the function it creates. Lambdas function can see all the variables that live in the functions where they are coded. Lambda functions can access a a global variable. Below is the example:"
      ],
      "metadata": {
        "id": "D2-G8it7yuX8"
      }
    },
    {
      "cell_type": "code",
      "source": [
        "x=5\n",
        "squares = lambda x: x*x\n",
        "print('Using lambda: ', squares(x))"
      ],
      "metadata": {
        "colab": {
          "base_uri": "https://localhost:8080/"
        },
        "id": "9YL3zVMF7ZU6",
        "outputId": "c7e04081-d98d-49fb-89e5-b23f71ddd758"
      },
      "execution_count": 3,
      "outputs": [
        {
          "output_type": "stream",
          "name": "stdout",
          "text": [
            "Using lambda:  25\n"
          ]
        }
      ]
    },
    {
      "cell_type": "markdown",
      "source": [
        "In the example above, we can see that x is defined outside the lambda function, but we are able to call it inside a lambda function."
      ],
      "metadata": {
        "id": "Swo94N4X7kxS"
      }
    },
    {
      "cell_type": "markdown",
      "source": [
        "Answer 6--------------------------------> We can write a lambda function to calculate the square of a given number as following:"
      ],
      "metadata": {
        "id": "HAxKsPlMyubk"
      }
    },
    {
      "cell_type": "code",
      "source": [
        "x=18\n",
        "squares = lambda x: x*x\n",
        "print('Using lambda: ', squares(x))"
      ],
      "metadata": {
        "colab": {
          "base_uri": "https://localhost:8080/"
        },
        "id": "Y_K_KyEo78by",
        "outputId": "7b1e22c2-e063-4e97-daa7-86128eed6624"
      },
      "execution_count": 5,
      "outputs": [
        {
          "output_type": "stream",
          "name": "stdout",
          "text": [
            "Using lambda:  324\n"
          ]
        }
      ]
    },
    {
      "cell_type": "markdown",
      "source": [
        "Answer 7--------------------------------> Here is the lambda function to find the maximum value in the list of intgers. By using max() and min() functions, we can find out the maximum and minimum value from the list."
      ],
      "metadata": {
        "id": "y1P1z6qwyufM"
      }
    },
    {
      "cell_type": "code",
      "source": [
        "mylist = [2,3,4,5,6,7,8,9,10,52,87,12,45]\n",
        "max_number = max(mylist)\n",
        "print(\"The maximum value is:\", max_number)"
      ],
      "metadata": {
        "colab": {
          "base_uri": "https://localhost:8080/"
        },
        "id": "NJoSdm3d8U4U",
        "outputId": "8441ee3e-6a95-4ff5-f849-865fa90ada78"
      },
      "execution_count": 10,
      "outputs": [
        {
          "output_type": "stream",
          "name": "stdout",
          "text": [
            "The maximum value is: 87\n"
          ]
        }
      ]
    },
    {
      "cell_type": "markdown",
      "source": [
        "Answer 8--------------------------------> For implementing a lambda function to filter out all the even numbers from a list of integers, we can use filter() function and write the following code."
      ],
      "metadata": {
        "id": "F6dfbajKyuic"
      }
    },
    {
      "cell_type": "code",
      "source": [
        "mylist = [4,54,15,14,18,35,16,58,47,26,15,35,95,75,95]\n",
        "list_new  = list(filter(lambda x : (x%2==0), mylist))\n",
        "print(list_new)"
      ],
      "metadata": {
        "colab": {
          "base_uri": "https://localhost:8080/"
        },
        "id": "RM-15GAI_CaQ",
        "outputId": "af034073-458a-44eb-d627-c8668b22468e"
      },
      "execution_count": 11,
      "outputs": [
        {
          "output_type": "stream",
          "name": "stdout",
          "text": [
            "[4, 54, 14, 18, 16, 58, 26]\n"
          ]
        }
      ]
    },
    {
      "cell_type": "markdown",
      "source": [
        "Answer 9--------------------------------> A code for a lambda function to sort a list of strings in ascending order based on the length of each\n",
        "string is as follows:"
      ],
      "metadata": {
        "id": "jdbb6tczyuls"
      }
    },
    {
      "cell_type": "code",
      "source": [
        "name_list = [\"Rashi\", \"Akash\",\"Nain\",\"Ishita\", \"Gauri\", \"Himanshu\", \"Sukesh\"]\n",
        "name_list.sort(key=lambda name: name.split()[0])\n",
        "print(\"Sorted name list\", name_list)"
      ],
      "metadata": {
        "colab": {
          "base_uri": "https://localhost:8080/"
        },
        "id": "kKUB2gET_j-U",
        "outputId": "23fc56f0-643a-47c5-c940-c611b2bc39c0"
      },
      "execution_count": 22,
      "outputs": [
        {
          "output_type": "stream",
          "name": "stdout",
          "text": [
            "Sorted name list ['Akash', 'Gauri', 'Himanshu', 'Ishita', 'Nain', 'Rashi', 'Sukesh']\n"
          ]
        }
      ]
    },
    {
      "cell_type": "markdown",
      "source": [
        "Answer 10------------------------------->"
      ],
      "metadata": {
        "id": "ictNa64Uyuo8"
      }
    },
    {
      "cell_type": "code",
      "source": [
        "name_list1 = [\"Rashi\", \"Akash\",\"Nain\",\"Ishita\", \"Gauri\", \"Himanshu\", \"Sukesh\"]\n",
        "name_list2 = [\"Anjan\", \"Anand\",\"Nain\",\"Himesh\", \"Rashi\", \"Himanshu\", \"Mukesh\"]\n",
        "result = list(filter(lambda x: x in name_list1, name_list2))\n",
        "print (\"Intersection : \",result)"
      ],
      "metadata": {
        "colab": {
          "base_uri": "https://localhost:8080/"
        },
        "id": "iD5DXtCUDiKJ",
        "outputId": "75b88af9-4aa7-48b7-beda-79257a5ed30e"
      },
      "execution_count": 27,
      "outputs": [
        {
          "output_type": "stream",
          "name": "stdout",
          "text": [
            "Intersection :  ['Nain', 'Rashi', 'Himanshu']\n"
          ]
        }
      ]
    },
    {
      "cell_type": "markdown",
      "source": [
        "Answer 11------------------------------->"
      ],
      "metadata": {
        "id": "FnyqTkSPyyq8"
      }
    },
    {
      "cell_type": "code",
      "source": [
        "\n",
        "x = lambda num : 1 if num <= 1 else num*x(num-1)\n",
        "\n",
        "number = int(input('Enter number: '))\n",
        "\n",
        "print('%d != %d' %(number, x(number)))"
      ],
      "metadata": {
        "colab": {
          "base_uri": "https://localhost:8080/"
        },
        "id": "E74Ow2txLkEF",
        "outputId": "d4f2eec1-096e-4da2-9f7f-1dcadfa6672e"
      },
      "execution_count": 28,
      "outputs": [
        {
          "output_type": "stream",
          "name": "stdout",
          "text": [
            "Enter number: 5\n",
            "5 != 120\n"
          ]
        }
      ]
    },
    {
      "cell_type": "markdown",
      "source": [
        "Answer 12------------------------------->"
      ],
      "metadata": {
        "id": "8uM3uL6FyywM"
      }
    },
    {
      "cell_type": "code",
      "source": [
        "def fibonacci(count):\n",
        "    fib_list = [0, 1]\n",
        "\n",
        "    any(map(lambda _: fib_list.append(sum(fib_list[-2:])),\n",
        "                                         range(2, count)))\n",
        "\n",
        "    return fib_list[:count]\n",
        "\n",
        "print(fibonacci(10))"
      ],
      "metadata": {
        "colab": {
          "base_uri": "https://localhost:8080/"
        },
        "id": "eD4_btJcMTSt",
        "outputId": "9ff27a55-301c-4d07-a57c-e2d8513a3e34"
      },
      "execution_count": 36,
      "outputs": [
        {
          "output_type": "stream",
          "name": "stdout",
          "text": [
            "[0, 1, 1, 2, 3, 5, 8, 13, 21, 34]\n"
          ]
        }
      ]
    },
    {
      "cell_type": "markdown",
      "source": [
        "Answer 13------------------------------->"
      ],
      "metadata": {
        "id": "4CNpN7SOyy1c"
      }
    },
    {
      "cell_type": "code",
      "source": [
        "import functools\n",
        "myList = [4,54,15,14,18,35,16,58,47,26,15,35,95,75,95]\n",
        "print(functools.reduce(lambda a, b: a+b, myList))"
      ],
      "metadata": {
        "colab": {
          "base_uri": "https://localhost:8080/"
        },
        "id": "59wJiaPVNuWC",
        "outputId": "704eda23-f614-499a-a6d0-d5b7e2396006"
      },
      "execution_count": 46,
      "outputs": [
        {
          "output_type": "stream",
          "name": "stdout",
          "text": [
            "602\n"
          ]
        }
      ]
    },
    {
      "cell_type": "markdown",
      "source": [
        "Answer 14------------------------------->"
      ],
      "metadata": {
        "id": "fzCRX4-_yy58"
      }
    },
    {
      "cell_type": "code",
      "source": [
        "name_list = [\"Rashi\", \"AGGA\",\"SANASA\",\"Ishita\", \"PHP\", \"Himanshu\", \"Sukesh\"]\n",
        "result = list(filter(lambda x: (x ==\"\".join(reversed(x))),name_list))\n",
        "print (result)\n"
      ],
      "metadata": {
        "colab": {
          "base_uri": "https://localhost:8080/"
        },
        "id": "K-Twlsl3P-g7",
        "outputId": "43e17d30-d7eb-4e4e-f78c-2edb7927c386"
      },
      "execution_count": 51,
      "outputs": [
        {
          "output_type": "stream",
          "name": "stdout",
          "text": [
            "['AGGA', 'PHP']\n"
          ]
        }
      ]
    },
    {
      "cell_type": "markdown",
      "source": [
        "Answer 15------------------------------->"
      ],
      "metadata": {
        "id": "-cUpI-D4yy9s"
      }
    },
    {
      "cell_type": "code",
      "source": [
        "gcd = lambda a, b: a if b == 0 else gcd(b, a % b)\n",
        "\n",
        "a = 24\n",
        "b = 1024\n",
        "\n",
        "print(\"The gcd of 24 and 1024 is:\", gcd(a, b))"
      ],
      "metadata": {
        "colab": {
          "base_uri": "https://localhost:8080/"
        },
        "id": "wPd40gu2RSz0",
        "outputId": "7c5fad44-bb1c-451f-dd95-30d90e58c185"
      },
      "execution_count": 63,
      "outputs": [
        {
          "output_type": "stream",
          "name": "stdout",
          "text": [
            "The gcd of 24 and 1024 is: 8\n"
          ]
        }
      ]
    }
  ]
}