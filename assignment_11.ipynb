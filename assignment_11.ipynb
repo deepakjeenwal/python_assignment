{
  "cells": [
    {
      "cell_type": "markdown",
      "metadata": {
        "id": "1AgJutwHOKA8"
      },
      "source": [
        "Answer 1-----------------------------> The else block in a try-except statement is an optional block of code that is executed if no exceptions are raised in the try block. This means that if no exceptions occur, the code in the else block is executed. Example is mentioned below. Here, we are not dividing by 0, so to put the result, we are using else block."
      ]
    },
    {
      "cell_type": "code",
      "execution_count": null,
      "metadata": {
        "colab": {
          "base_uri": "https://localhost:8080/"
        },
        "id": "n_ZgQI8WOokP",
        "outputId": "09d043d5-983b-4715-a733-bbccdd93ec45"
      },
      "outputs": [
        {
          "name": "stdout",
          "output_type": "stream",
          "text": [
            "Enter first number5\n",
            "Enter second number2\n",
            "Result=2.5\n"
          ]
        }
      ],
      "source": [
        "x=int(input(\"Enter first number\"))\n",
        "y=int(input(\"Enter second number\"))\n",
        "\n",
        "try:\n",
        "    result = x / y\n",
        "except ZeroDivisionError:\n",
        "    print(\"Error: Cannot divide by zero\")\n",
        "else:\n",
        "    print(f\"Result={result}\")"
      ]
    },
    {
      "cell_type": "markdown",
      "metadata": {
        "id": "7wp4UoiqOOEU"
      },
      "source": [
        "Answer 2-----------------------------> We can have nested try-except blocks in Python. In this case, if an exception is raised in the nested try block, the nested except block is used to handle it. In case the nested except is not able to handle it, the outer except blocks are used to handle the exception. Below is the example."
      ]
    },
    {
      "cell_type": "code",
      "execution_count": null,
      "metadata": {
        "colab": {
          "base_uri": "https://localhost:8080/"
        },
        "id": "aVhtJT1UQhi1",
        "outputId": "a87cac0d-906d-4442-b234-834e7cc78bb7"
      },
      "outputs": [
        {
          "name": "stdout",
          "output_type": "stream",
          "text": [
            "outer try block\n",
            "nested try block\n",
            "outer except block\n",
            "division by zero\n"
          ]
        }
      ],
      "source": [
        "x = 238\n",
        "y = 0\n",
        "\n",
        "try:\n",
        "    print(\"outer try block\")\n",
        "    try:\n",
        "        print(\"nested try block\")\n",
        "        print(x / y)\n",
        "    except TypeError as te:\n",
        "        print(\"nested except block\")\n",
        "        print(te)\n",
        "except ZeroDivisionError as ze:\n",
        "    print(\"outer except block\")\n",
        "    print(ze)"
      ]
    },
    {
      "cell_type": "markdown",
      "metadata": {
        "id": "E3vgKtr2OTH0"
      },
      "source": [
        "Answer 3-----------------------------> We can create custome exception class by following systax:"
      ]
    },
    {
      "cell_type": "code",
      "execution_count": null,
      "metadata": {
        "id": "LGJt7obBRsi2"
      },
      "outputs": [],
      "source": [
        "class MyCustomError(Exception):\n",
        "  pass\n",
        "raise MyCustomError(\"This is the custome exception\")\n"
      ]
    },
    {
      "cell_type": "markdown",
      "metadata": {
        "id": "ajsElCBmR3cV"
      },
      "source": [
        "Below is the example of a custom exception class: Here, a custome class \"WrongAge\" is defined and raised if the exceptions occur."
      ]
    },
    {
      "cell_type": "code",
      "execution_count": null,
      "metadata": {
        "colab": {
          "base_uri": "https://localhost:8080/"
        },
        "id": "StjvaDG0R85m",
        "outputId": "ab505c87-93c4-419a-b46a-4987054e805b"
      },
      "outputs": [
        {
          "name": "stdout",
          "output_type": "stream",
          "text": [
            "Enter your age: 45\n",
            "You can vote\n"
          ]
        }
      ],
      "source": [
        "class WrongAge(Exception):\n",
        "  pass\n",
        "n=18\n",
        "try:\n",
        "  input_num = int(input(\"Enter your age: \"))\n",
        "  if input_num<n:\n",
        "    raise WrongAge\n",
        "\n",
        "  else:\n",
        "    print(\"You can vote\")\n",
        "\n",
        "except:\n",
        "  print(\"You cannot vote\")"
      ]
    },
    {
      "cell_type": "markdown",
      "metadata": {
        "id": "yadCEDpSOUTE"
      },
      "source": [
        "Answer 4-----------------------------> Below is the list of built-in exceptions in python."
      ]
    },
    {
      "cell_type": "code",
      "execution_count": null,
      "metadata": {
        "colab": {
          "base_uri": "https://localhost:8080/"
        },
        "id": "JFhPniLIc-3r",
        "outputId": "1bd288be-bf87-4ac0-ecf7-3638bcb53127"
      },
      "outputs": [
        {
          "name": "stdout",
          "output_type": "stream",
          "text": [
            "['ArithmeticError', 'AssertionError', 'AttributeError', 'BaseException', 'BlockingIOError', 'BrokenPipeError', 'BufferError', 'BytesWarning', 'ChildProcessError', 'ConnectionAbortedError', 'ConnectionError', 'ConnectionRefusedError', 'ConnectionResetError', 'DeprecationWarning', 'EOFError', 'Ellipsis', 'EncodingWarning', 'EnvironmentError', 'Exception', 'False', 'FileExistsError', 'FileNotFoundError', 'FloatingPointError', 'FutureWarning', 'GeneratorExit', 'IOError', 'ImportError', 'ImportWarning', 'IndentationError', 'IndexError', 'InterruptedError', 'IsADirectoryError', 'KeyError', 'KeyboardInterrupt', 'LookupError', 'MemoryError', 'ModuleNotFoundError', 'NameError', 'None', 'NotADirectoryError', 'NotImplemented', 'NotImplementedError', 'OSError', 'OverflowError', 'PendingDeprecationWarning', 'PermissionError', 'ProcessLookupError', 'RecursionError', 'ReferenceError', 'ResourceWarning', 'RuntimeError', 'RuntimeWarning', 'StopAsyncIteration', 'StopIteration', 'SyntaxError', 'SyntaxWarning', 'SystemError', 'SystemExit', 'TabError', 'TimeoutError', 'True', 'TypeError', 'UnboundLocalError', 'UnicodeDecodeError', 'UnicodeEncodeError', 'UnicodeError', 'UnicodeTranslateError', 'UnicodeWarning', 'UserWarning', 'ValueError', 'Warning', 'ZeroDivisionError', '__IPYTHON__', '__build_class__', '__debug__', '__doc__', '__import__', '__loader__', '__name__', '__package__', '__spec__', 'abs', 'aiter', 'all', 'anext', 'any', 'ascii', 'bin', 'bool', 'breakpoint', 'bytearray', 'bytes', 'callable', 'chr', 'classmethod', 'compile', 'complex', 'copyright', 'credits', 'delattr', 'dict', 'dir', 'display', 'divmod', 'enumerate', 'eval', 'exec', 'execfile', 'filter', 'float', 'format', 'frozenset', 'get_ipython', 'getattr', 'globals', 'hasattr', 'hash', 'help', 'hex', 'id', 'input', 'int', 'isinstance', 'issubclass', 'iter', 'len', 'license', 'list', 'locals', 'map', 'max', 'memoryview', 'min', 'next', 'object', 'oct', 'open', 'ord', 'pow', 'print', 'property', 'range', 'repr', 'reversed', 'round', 'runfile', 'set', 'setattr', 'slice', 'sorted', 'staticmethod', 'str', 'sum', 'super', 'tuple', 'type', 'vars', 'zip']\n"
          ]
        }
      ],
      "source": [
        "print(dir(locals()['__builtins__']))"
      ]
    },
    {
      "cell_type": "markdown",
      "metadata": {
        "id": "cm3Hiau9OVT0"
      },
      "source": [
        "Answer 5-----------------------------> One of the most useful tool in python is logging. It can help you develop a better understanding of the flow of a program and discover scenarios that you might not even have thought of while developing.\n",
        "\n",
        "> Logging helps in looking at the flow that an application is going through. Logging can be used to store information. Logging can be used to go back to the state of the code before the error occured. But using looging we can develope a bug-free application.\n",
        "\n"
      ]
    },
    {
      "cell_type": "markdown",
      "metadata": {
        "id": "LkT9BgdbOWXs"
      },
      "source": [
        "Answer 6-----------------------------> According to the seriousness of the event, Python has six level of logging. These are:\n",
        "\n",
        "> Notset: This is the default level. Not many people use it nowdays.\n",
        "\n",
        "> Debug: If we have to diagnose our code, we use this level of debugging.\n",
        "\n",
        "> Info: To obtain useful infor about our code, we use this logging level. It tells us as to how our code is performing.\n",
        "\n",
        "> Warning: This logging level is used for issuing warnings about future incidences.\n",
        "\n",
        "> Error: For logging error, we use this logging level. It means that software cannot perform any function.\n",
        "\n",
        "> Critical:  A serious error has occurred. The program itself may shut down or not be able to continue running properly.\n",
        "\n",
        "\n",
        "\n",
        "\n",
        "\n",
        "\n",
        "\n",
        "\n",
        "\n",
        "\n",
        "\n",
        "\n"
      ]
    },
    {
      "cell_type": "markdown",
      "metadata": {
        "id": "Gko13MbwOXcL"
      },
      "source": [
        "Answer 7-----------------------------> We can log a message into a placeholder data by creating a formatter and adding it to thel logger. We can print the time of the log request, the logging level, the logger's name, the module name, and the log message in this formatter.\n",
        "\n",
        "> First we need to create a logger.We can create this by using getLogger() method. After creating the logger object we have to set the log level using setLevel() method.\n",
        "\n",
        "> The next step is to create a handler object and set the logging level.\n",
        "\n",
        "> The next step is to create a formatter object.\n",
        "\n",
        "> Now we have to add the Formatter (object) to Handler (object) using setFormatter() method.\n",
        "\n",
        "\n",
        "> Then the handler object should be added to the logger object using addHandler() method.\n",
        "\n",
        "> The last step is writing the log messages to the file using the methods and logger object which we created.\n",
        "\n",
        "> Example is given below:"
      ]
    },
    {
      "cell_type": "code",
      "execution_count": null,
      "metadata": {
        "colab": {
          "base_uri": "https://localhost:8080/"
        },
        "id": "-cdVxmDuyakK",
        "outputId": "9b78e1c0-21fb-4be2-efd5-3ad934cdfd88"
      },
      "outputs": [
        {
          "name": "stderr",
          "output_type": "stream",
          "text": [
            "09/29/2023 07:15:02AM - demologgerINFO: info message\n",
            "INFO:demologger:info message\n",
            "<ipython-input-12-095cea2bec59>:13: DeprecationWarning: The 'warn' method is deprecated, use 'warning' instead\n",
            "  logger.warn('warn message')\n",
            "09/29/2023 07:15:02AM - demologgerWARNING: warn message\n",
            "WARNING:demologger:warn message\n",
            "09/29/2023 07:15:02AM - demologgerERROR: error message\n",
            "ERROR:demologger:error message\n",
            "09/29/2023 07:15:02AM - demologgerCRITICAL: critical message\n",
            "CRITICAL:demologger:critical message\n"
          ]
        }
      ],
      "source": [
        "import logging\n",
        "class LoggerDemoConsole:\n",
        "   def testLog(self):\n",
        "       logger = logging.getLogger('demologger')\n",
        "       logger.setLevel(logging.INFO)\n",
        "       consoleHandler = logging.StreamHandler()\n",
        "       consoleHandler.setLevel(logging.INFO)\n",
        "       formatter = logging.Formatter('%(asctime)s - %(name)s%(levelname)s: %(message)s', datefmt='%m/%d/%Y %I:%M:%S%p')\n",
        "       consoleHandler.setFormatter(formatter)\n",
        "       logger.addHandler(consoleHandler)\n",
        "       logger.debug('debug message')\n",
        "       logger.info('info message')\n",
        "       logger.warn('warn message')\n",
        "       logger.error('error message')\n",
        "       logger.critical('critical message')\n",
        "demo = LoggerDemoConsole()\n",
        "demo.testLog()"
      ]
    },
    {
      "cell_type": "markdown",
      "metadata": {
        "id": "J-2GadcqOYfL"
      },
      "source": [
        "Answer 8-----------------------------> By using logging.basicConfig\" and \"logger = logging.getLogger()\" method, we can capture errors for all classes and methods.\n",
        "\n",
        "\n",
        "\n",
        "\n",
        "\n",
        "\n",
        "\n",
        "\n"
      ]
    },
    {
      "cell_type": "markdown",
      "metadata": {
        "id": "uIOm76StOZkj"
      },
      "source": [
        "Answer 9----------------------------->\n",
        "> Logging in Python is a technique to display useful messages and warnings to users. It records events and errors that occur during the execution of Python programs. Mainly used in the production environment. Some features are: Log levels, filtering, formatting, and more. It provides different log levels such as Debug, Info, Error, Warning, and Critical.\n",
        "\n",
        "> The print statement is a built-in function in Python that prints the specified value or values to the console. It displays the information to the console for the debugging purposes.  It's mainly used for debugging. There are no good features like logging has. It does not have any levels, it simply prints whatever is passed to it.\n",
        "\n",
        "> The crux is that logging should be used in production code for logging information. Print should be used just for debugging purposes."
      ]
    },
    {
      "cell_type": "markdown",
      "metadata": {
        "id": "L9Vt8aZdOcYb"
      },
      "source": [
        "Answer 10----------------------------->"
      ]
    },
    {
      "cell_type": "code",
      "execution_count": null,
      "metadata": {
        "id": "YHBp2_OzGC6r"
      },
      "outputs": [],
      "source": [
        "import os\n",
        "import logging\n",
        "\n",
        "logging.basicConfig(filename = \"/home/jovyan/work/app.log\", level = logging.INFO)\n",
        "logger = logging.getLogger()\n",
        "\n",
        "logger.info(\"Hello! World\")"
      ]
    },
    {
      "cell_type": "markdown",
      "metadata": {
        "id": "obqZUvxrOdUj"
      },
      "source": [
        "Answer 11----------------------------->"
      ]
    },
    {
      "cell_type": "code",
      "source": [
        "import logging\n",
        "\n",
        "LOG_FORMAT = \"%(levelname)s %(asctime)s -%(message)s\"\n",
        "logging.basicConfig(filename = \"/home/jovyan/work/errors.log\", level = logging.INFO, format = LOG_FORMAT)\n",
        "logger = logging.getLogger()\n",
        "try:\n",
        "    printf(\"assignment_11\")\n",
        "except Exception as Argument:\n",
        "    logger.exception(\"Error occurred while printing assignment_11\")"
      ],
      "metadata": {
        "colab": {
          "base_uri": "https://localhost:8080/"
        },
        "id": "gu7SpOMJSQKF",
        "outputId": "c84ef21e-9191-41bd-aa77-e72b39783cd2"
      },
      "execution_count": 8,
      "outputs": [
        {
          "output_type": "stream",
          "name": "stderr",
          "text": [
            "ERROR:root:Error occurred while printing assignment_11\n",
            "Traceback (most recent call last):\n",
            "  File \"<ipython-input-8-923f8ed3dd66>\", line 7, in <cell line: 6>\n",
            "    printf(\"assignment_11\")\n",
            "NameError: name 'printf' is not defined\n"
          ]
        }
      ]
    }
  ],
  "metadata": {
    "colab": {
      "provenance": []
    },
    "kernelspec": {
      "display_name": "Python 3",
      "name": "python3"
    },
    "language_info": {
      "name": "python"
    }
  },
  "nbformat": 4,
  "nbformat_minor": 0
}