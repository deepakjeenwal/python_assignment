{
  "nbformat": 4,
  "nbformat_minor": 0,
  "metadata": {
    "colab": {
      "provenance": []
    },
    "kernelspec": {
      "name": "python3",
      "display_name": "Python 3"
    },
    "language_info": {
      "name": "python"
    }
  },
  "cells": [
    {
      "cell_type": "markdown",
      "source": [
        "Answer 1----------------------> Keywords are forbidable words that we cannot use for our varibale name, function name or for any identifier name. These words are reserved."
      ],
      "metadata": {
        "id": "SSh0S8WEGuWz"
      }
    },
    {
      "cell_type": "code",
      "source": [
        "import keyword\n",
        "print (keyword.kwlist)"
      ],
      "metadata": {
        "colab": {
          "base_uri": "https://localhost:8080/"
        },
        "id": "vKl3Vo9GHTuk",
        "outputId": "d7109eab-2166-446f-ced4-091054371ee8"
      },
      "execution_count": 1,
      "outputs": [
        {
          "output_type": "stream",
          "name": "stdout",
          "text": [
            "['False', 'None', 'True', 'and', 'as', 'assert', 'async', 'await', 'break', 'class', 'continue', 'def', 'del', 'elif', 'else', 'except', 'finally', 'for', 'from', 'global', 'if', 'import', 'in', 'is', 'lambda', 'nonlocal', 'not', 'or', 'pass', 'raise', 'return', 'try', 'while', 'with', 'yield']\n"
          ]
        }
      ]
    },
    {
      "cell_type": "markdown",
      "source": [
        "Answer 2----------------------> A variable name cannot be any of the Python keywords.\n",
        "A variable name must start with a letter or the underscore character\n",
        "A variable name can only contain alpha-numeric characters and underscores (A-z, 0-9, and _ )\n",
        "A variable name should not start with a number.\n",
        "Variable names are case-sensitive.\n"
      ],
      "metadata": {
        "id": "ah_SdReZIkPF"
      }
    },
    {
      "cell_type": "markdown",
      "source": [
        "Answer 3----------------------> We should use grammatically correct variable names, the variable name should start with an lowercase and must follow camelCase or use underscoreto join two words.\n",
        "We should avoid abbreviation, we should not use generic names, we should not use misleading names. The variable names should be short as well as meaningful."
      ],
      "metadata": {
        "id": "JuDK6o52I6rM"
      }
    },
    {
      "cell_type": "markdown",
      "source": [
        "Answer 4----------------------> If we use keyword as a variable name, the compiler or interpreter might think we mean the keyword, and we might not be able to access the variable."
      ],
      "metadata": {
        "id": "ptL5MHSlK952"
      }
    },
    {
      "cell_type": "markdown",
      "source": [
        "Answer 5----------------------> def keyword is used to create a user defined funcion."
      ],
      "metadata": {
        "id": "e3cICuhJLQ3d"
      }
    },
    {
      "cell_type": "markdown",
      "source": [
        "Answer 6----------------------> '\\\\' is an escape character. Prefixing it with any special character make it an ordinary character. \\t means tab, \\n means new line etc."
      ],
      "metadata": {
        "id": "f_6H-BJZLh6W"
      }
    },
    {
      "cell_type": "markdown",
      "source": [
        "Answer 7----------------------> Homogeneous list [\"apple\", \"banana\", \"Orange\"]\n",
        "Heterogeneous set {\"apple\", 24, \"Orange\", 48}\n",
        "Homogeneous tuple (\"Delhi\", \"Mumbai\", \"Chennai\", \"Kolkata\")\n",
        "\n",
        "\n",
        "\n"
      ],
      "metadata": {
        "id": "baRqXDRKMSd_"
      }
    },
    {
      "cell_type": "markdown",
      "source": [
        "Answer 8----------------------> We can change the contents of a mutable data type in Python, by assigning new values or by adding new values. Whereas, we cannot change the contents of an immutable data type in Python. The data in immutable data types remains the same.\n",
        "Lists, dictionary and sets are mutable objects  where as numbers, string and tuples are immutable objects.\n"
      ],
      "metadata": {
        "id": "3Rx8XAMXNtHX"
      }
    },
    {
      "cell_type": "code",
      "source": [
        "demo_tuple= (\"Delhi\", \"Mumbai\", \"Chennai\", \"Kolkata\")\n",
        "demo_tuple\n"
      ],
      "metadata": {
        "colab": {
          "base_uri": "https://localhost:8080/"
        },
        "id": "-jLlUwEPPNCh",
        "outputId": "1f8dda7f-1b62-4075-aac6-a33bf2f791c7"
      },
      "execution_count": 6,
      "outputs": [
        {
          "output_type": "execute_result",
          "data": {
            "text/plain": [
              "('Delhi', 'Mumbai', 'Chennai', 'Kolkata')"
            ]
          },
          "metadata": {},
          "execution_count": 6
        }
      ]
    },
    {
      "cell_type": "code",
      "source": [
        "demo_list= [23, \"Ajay\", 34, \"Raveena\"]\n",
        "demo_list.insert(0,\"Aakash\")\n",
        "demo_list"
      ],
      "metadata": {
        "colab": {
          "base_uri": "https://localhost:8080/"
        },
        "id": "ZJidYG1mQCZ3",
        "outputId": "5a329d68-5144-4af5-9a8b-ab419fa37677"
      },
      "execution_count": 10,
      "outputs": [
        {
          "output_type": "execute_result",
          "data": {
            "text/plain": [
              "['Aakash', 23, 'Ajay', 34, 'Raveena']"
            ]
          },
          "metadata": {},
          "execution_count": 10
        }
      ]
    },
    {
      "cell_type": "markdown",
      "source": [
        "Answer 9---------------------->"
      ],
      "metadata": {
        "id": "_bjVOuwoQp3I"
      }
    },
    {
      "cell_type": "code",
      "source": [
        "n=5\n",
        "for i in range(n):\n",
        "\n",
        "    for j in range(i,n):\n",
        "         print(' ', end=\"\")\n",
        "\n",
        "    for j in range(i):\n",
        "         print('*', end=\"\")\n",
        "\n",
        "    for j in range(i+1):\n",
        "         print('*', end=\"\")\n",
        "\n",
        "    print()"
      ],
      "metadata": {
        "colab": {
          "base_uri": "https://localhost:8080/"
        },
        "id": "0IU3EOy4QrxY",
        "outputId": "672ccf79-c9f0-461d-deb4-c62736224902"
      },
      "execution_count": 40,
      "outputs": [
        {
          "output_type": "stream",
          "name": "stdout",
          "text": [
            "     *\n",
            "    ***\n",
            "   *****\n",
            "  *******\n",
            " *********\n"
          ]
        }
      ]
    },
    {
      "cell_type": "markdown",
      "source": [
        "Answer 10---------------------->"
      ],
      "metadata": {
        "id": "6IvIuD98WVHp"
      }
    },
    {
      "cell_type": "code",
      "source": [
        "n=5\n",
        "i=1\n",
        "while n>0:\n",
        "    b=1\n",
        "    while (b<i):\n",
        "        print(\" \", end =\"\")\n",
        "        b=b+1\n",
        "    j=1\n",
        "    while (j<=(n*2)-1):\n",
        "        print(\"|\", end=\"\")\n",
        "        j=j+1\n",
        "    print()\n",
        "    n=n-1\n",
        "    i=i+1\n",
        "\n"
      ],
      "metadata": {
        "colab": {
          "base_uri": "https://localhost:8080/"
        },
        "id": "mLXK5mANWgPq",
        "outputId": "878c0b40-6026-4443-e2aa-72f988260042"
      },
      "execution_count": 41,
      "outputs": [
        {
          "output_type": "stream",
          "name": "stdout",
          "text": [
            "|||||||||\n",
            " |||||||\n",
            "  |||||\n",
            "   |||\n",
            "    |\n"
          ]
        }
      ]
    }
  ]
}