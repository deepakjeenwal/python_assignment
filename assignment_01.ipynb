{
 "cells": [
  {
   "cell_type": "markdown",
   "id": "0ca82821-cbb1-4f1f-9d24-e20976b53d9d",
   "metadata": {},
   "source": [
    "Answer 1------------------> *,-,+ and / are expressions and 'hello', -87.8 and 6 are values"
   ]
  },
  {
   "cell_type": "markdown",
   "id": "ed271777-2863-4e13-9784-652a55f44565",
   "metadata": {},
   "source": [
    "Answer 2------------------> String is a data type and holds a data like naame, country name, address where as variable is a placeholder that can hold a value that can change/vary as per the operation/function."
   ]
  },
  {
   "cell_type": "markdown",
   "id": "52adf9f4-db86-4980-8689-039bac07efeb",
   "metadata": {},
   "source": [
    "Answer 3------------------> Numeric, String and Boolean are three different data types in python."
   ]
  },
  {
   "cell_type": "markdown",
   "id": "cdd3355d-59ee-420a-8034-b50725da8f73",
   "metadata": {},
   "source": [
    "Answer 4------------------> Expressions are made up of operators, constants and variables. Expression modify the value of a variables or produce a value after performing an operation which we can assign to any variable"
   ]
  },
  {
   "cell_type": "markdown",
   "id": "b82505bf-0679-4a73-a9a9-88b99aebff50",
   "metadata": {},
   "source": [
    "Answer 5------------------> A statement can be used to assign a value or for displaying a value whereas expression gets resolved to produce a value."
   ]
  },
  {
   "cell_type": "markdown",
   "id": "c475bee6-e17f-4094-9b35-b23b597d3290",
   "metadata": {},
   "source": [
    "Answer 6------------------> After first line, bacon will contain 22. After second line bacon will contain 23."
   ]
  },
  {
   "cell_type": "markdown",
   "id": "582ed66b-b25d-4e5c-ad78-38078fa51993",
   "metadata": {},
   "source": [
    "Answer 7------------------> First line concatenate two string. Result would be 'spamspamspam'. Second line is trying to perform a mathemetical operation between a numeric data type and string data type. We will get an error in this case."
   ]
  },
  {
   "cell_type": "markdown",
   "id": "f447bbfc-5e36-4786-9e5f-98d6aa2d6579",
   "metadata": {},
   "source": [
    "Answer 8------------------> There are few rules regarding naming a varible. We cannot have a variable name starting with a number is one of them. If we have a variable name starting with a number, compiler gets confused as to whether its a numerical value or an identifier."
   ]
  },
  {
   "cell_type": "markdown",
   "id": "ad8e70f6-db8d-4776-ae0e-6cfa90443987",
   "metadata": {},
   "source": [
    "Answer 9------------------> if we pass any value in int() , float() , and str( ) we will get integer, float and string version of those values."
   ]
  },
  {
   "cell_type": "markdown",
   "id": "c3ec1a23-78ed-4864-b3c3-a308d6dd8a04",
   "metadata": {},
   "source": [
    "Answer 10------------------> 'I have eaten'  + 99 + 'burritos.' This statement will throw an error as we are trying to perform a string concatenation between 2 string data type and one numeric data type. We will have to convert 99 into string value by adding inverted commas (quotes) like '99'. Now, if we run \"I have eaten' + '99' + 'buritos.', it will get excuted without any error."
   ]
  }
 ],
 "metadata": {
  "kernelspec": {
   "display_name": "Python 3 (ipykernel)",
   "language": "python",
   "name": "python3"
  },
  "language_info": {
   "codemirror_mode": {
    "name": "ipython",
    "version": 3
   },
   "file_extension": ".py",
   "mimetype": "text/x-python",
   "name": "python",
   "nbconvert_exporter": "python",
   "pygments_lexer": "ipython3",
   "version": "3.10.6"
  }
 },
 "nbformat": 4,
 "nbformat_minor": 5
}
