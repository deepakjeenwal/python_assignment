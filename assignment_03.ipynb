{
  "nbformat": 4,
  "nbformat_minor": 0,
  "metadata": {
    "colab": {
      "provenance": []
    },
    "kernelspec": {
      "name": "python3",
      "display_name": "Python 3"
    },
    "language_info": {
      "name": "python"
    }
  },
  "cells": [
    {
      "cell_type": "markdown",
      "source": [
        "Answer 1------------------------------>Function is block of code that returns a specific value or output. It is very useful where we need to perform common repeated tasks. Instead of writing the entire code again, we can simply call a function. It reduces the time, effort and maintains uniformity."
      ],
      "metadata": {
        "id": "37AXKbw5soMC"
      }
    },
    {
      "cell_type": "markdown",
      "source": [
        "Answer 2------------------------------>The code in a fuction runs only when its called."
      ],
      "metadata": {
        "id": "FZspMi-Zs3Wq"
      }
    },
    {
      "cell_type": "markdown",
      "source": [
        "Answer 3------------------------------> \"def\" is a keyword that we use to create any function. The statement we execute while ddefining a function is something like this.\n",
        "def start_engine\n",
        "Here, def is a keyword and start_engine is a name given by us to a function"
      ],
      "metadata": {
        "id": "bhKPlLIpsqBQ"
      }
    },
    {
      "cell_type": "markdown",
      "source": [
        "Answer 4------------------------------>Function is block of code that returns a specific value or output. Function is created using \"def\" keyword.\n",
        "Whereas fuction call is a call to envoke and execute a function. Suppose we create a function.\n",
        "def max_salary\n",
        "Here max_salary is a name of a function. To call this function, we need to call it. This is called as function call. WRT to the aboce function, we can call it like this.\n",
        "max_salary()\n"
      ],
      "metadata": {
        "id": "PzLhHWfdt-Bj"
      }
    },
    {
      "cell_type": "markdown",
      "source": [
        "Answer 5------------------------------>There is only one global scope in python. It remains until the programme terminates.\n",
        "Python has only one local scopes. The variables defined under the functions are example of it. Other than these two there are two more types, enclosing and built in.\n"
      ],
      "metadata": {
        "id": "U94FfXOHvEGL"
      }
    },
    {
      "cell_type": "markdown",
      "source": [
        "Answer 6------------------------------>The variable in a local scope gets destroyed when the function call returns.               "
      ],
      "metadata": {
        "id": "2K8A4TfCwX90"
      }
    },
    {
      "cell_type": "markdown",
      "source": [
        "Answer 7------------------------------>The return value is a value that a calling function receives after its execution. We can have a return value in an expression."
      ],
      "metadata": {
        "id": "VNY8gGRiysIy"
      }
    },
    {
      "cell_type": "markdown",
      "source": [
        "Answer 8------------------------------>If a function does not have a return statement, it returns none.\n",
        "\n"
      ],
      "metadata": {
        "id": "0JvU3StezrOC"
      }
    },
    {
      "cell_type": "markdown",
      "source": [
        "Answer 9------------------------------>We make a function variable refer to a global variable by using a keyword \"global\"."
      ],
      "metadata": {
        "id": "Wzlm-UWB0O60"
      }
    },
    {
      "cell_type": "markdown",
      "source": [
        "Answer 10----------------------------->Data type of None is Nonetype."
      ],
      "metadata": {
        "id": "bRmz-Yoy0-VT"
      }
    },
    {
      "cell_type": "markdown",
      "source": [
        "Answer 11----------------------------->This imports a module named areallyourpetsnamederic."
      ],
      "metadata": {
        "id": "PT5HCUuf1sEt"
      }
    },
    {
      "cell_type": "markdown",
      "source": [
        "Answer 12----------------------------->After importing spam, we can import feature bacon with spam.bacon()."
      ],
      "metadata": {
        "id": "v_Dfeeas2PJz"
      }
    },
    {
      "cell_type": "markdown",
      "source": [
        "Answer 13----------------------------->We can prevent our programme from crashing if we put a code inside a try clause."
      ],
      "metadata": {
        "id": "OWk2uXwy2xnl"
      }
    },
    {
      "cell_type": "markdown",
      "source": [
        "Answer 14----------------------------->We put the block of code with potential error inside a try block.\n",
        "We put the code we want to execute after we encounter an error inside a except clause."
      ],
      "metadata": {
        "id": "8CrYZ9wK3JWE"
      }
    }
  ]
}