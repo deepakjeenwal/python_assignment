{
  "nbformat": 4,
  "nbformat_minor": 0,
  "metadata": {
    "colab": {
      "provenance": []
    },
    "kernelspec": {
      "name": "python3",
      "display_name": "Python 3"
    },
    "language_info": {
      "name": "python"
    }
  },
  "cells": [
    {
      "cell_type": "markdown",
      "source": [
        "Answer 1--------------------------> This is an empty list which contains no value."
      ],
      "metadata": {
        "id": "URcwUfYPCkBi"
      }
    },
    {
      "cell_type": "markdown",
      "source": [
        "Answer 2--------------------------> spam[2] = 'hello'"
      ],
      "metadata": {
        "id": "DZbWfsY7CkPJ"
      }
    },
    {
      "cell_type": "markdown",
      "source": [
        "Answer 3--------------------------> The value of spam[int(int('3' * 2) / 11)] would be \"d\"."
      ],
      "metadata": {
        "id": "wuaT4QIqCkWp"
      }
    },
    {
      "cell_type": "markdown",
      "source": [
        "Answer 4--------------------------> The value of spam[-1] would be \"d\"."
      ],
      "metadata": {
        "id": "ooy0bqFoCkdh"
      }
    },
    {
      "cell_type": "markdown",
      "source": [
        "Answer 5--------------------------> The value of spam[:2] would be ['a', 'b']."
      ],
      "metadata": {
        "id": "7VOGg0bNCkhx"
      }
    },
    {
      "cell_type": "markdown",
      "source": [
        "Answer 6--------------------------> The value of bacon.index('cat') would be 1."
      ],
      "metadata": {
        "id": "7KuG1e3LCklR"
      }
    },
    {
      "cell_type": "markdown",
      "source": [
        "Answer 7--------------------------> After appending '99' in bacon, it would look like this. [3.14, 'cat', 11, 'cat', True, 99]"
      ],
      "metadata": {
        "id": "rXrXTcu9Ckox"
      }
    },
    {
      "cell_type": "markdown",
      "source": [
        "Answer 8--------------------------> After remmoving the 'cat' , bacon would look like this. [3.14, 11, 'cat', True, 99]"
      ],
      "metadata": {
        "id": "-qSY7jwiCksS"
      }
    },
    {
      "cell_type": "markdown",
      "source": [
        "Answer 9--------------------------> The operator for list concatenation is +, whereas the operator for list replication is *."
      ],
      "metadata": {
        "id": "ZibS64aKCkvh"
      }
    },
    {
      "cell_type": "markdown",
      "source": [
        "Answer 10--------------------------> append() will add values only to the end of a list but insert() can add them at any position in the list.\n",
        "\n",
        "\n",
        "\n"
      ],
      "metadata": {
        "id": "0MlUsR4wCkzR"
      }
    },
    {
      "cell_type": "markdown",
      "source": [
        "Answer 11--------------------------> The del statement and the remove() list method can be used to delete list elements.\n",
        "Additionally we can use pop() method as well."
      ],
      "metadata": {
        "id": "teZzCCt1Ck2p"
      }
    },
    {
      "cell_type": "markdown",
      "source": [
        "Answer 12--------------------------> List and strings can be concatenated and duplicated. Both have len() method. Similarly, both have IN and NOT operators. Both have indexes and can be used in a loop. We can use slicing on both. We can also use"
      ],
      "metadata": {
        "id": "xg9j1YgiCk6R"
      }
    },
    {
      "cell_type": "markdown",
      "source": [
        "Answer 13--------------------------> Tupple is written using parantheses ('India', 'Australia'). List is written using square brackets ['India', 'Australia'].\n",
        "Tupple is not mutable. List is mutable."
      ],
      "metadata": {
        "id": "7LzpKmnhCk94"
      }
    },
    {
      "cell_type": "markdown",
      "source": [
        "Answer 14--------------------------> We can write a tupple that have a value 42 like this.\n",
        "(42)"
      ],
      "metadata": {
        "id": "4DKaqlH9ClBh"
      }
    },
    {
      "cell_type": "markdown",
      "source": [
        "Answer 15--------------------------> We can achieve he task with  tuple() and list() functions."
      ],
      "metadata": {
        "id": "Msg7T-kXClFJ"
      }
    },
    {
      "cell_type": "markdown",
      "source": [
        "Answer 16--------------------------> Those variables contain references to list values."
      ],
      "metadata": {
        "id": "bOv9nUFsClJh"
      }
    },
    {
      "cell_type": "markdown",
      "source": [
        "Answer 17--------------------------> As the name suggests, copy.copy() will do the shallow copy whereas copy.deepcopy() does deep copy. Meaning. it can also copy a list which is inside another list."
      ],
      "metadata": {
        "id": "y5Kdmmb9DCPi"
      }
    }
  ]
}