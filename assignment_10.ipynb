{
  "nbformat": 4,
  "nbformat_minor": 0,
  "metadata": {
    "colab": {
      "provenance": []
    },
    "kernelspec": {
      "name": "python3",
      "display_name": "Python 3"
    },
    "language_info": {
      "name": "python"
    }
  },
  "cells": [
    {
      "cell_type": "markdown",
      "source": [
        "Answer 1--------------------------> A Try-Except statement is a code block that allows your program to take alternative actions in case an error occurs. The try block lets you test a block of code for errors. The except block lets you handle the error."
      ],
      "metadata": {
        "id": "BrxPbWxugBOh"
      }
    },
    {
      "cell_type": "markdown",
      "source": [
        "Answer 2--------------------------> Below is the basic syntax of the try except block."
      ],
      "metadata": {
        "id": "7XXp9EATgZOA"
      }
    },
    {
      "cell_type": "code",
      "source": [
        "try:\n",
        "  #code that might raise an exception\n",
        "  except:\n",
        "     # code to handle ExceptionType1\n",
        "  finally:\n",
        "    #line of code to be executed after exception happens\n"
      ],
      "metadata": {
        "id": "7FyEii7Egd-7"
      },
      "execution_count": null,
      "outputs": []
    },
    {
      "cell_type": "markdown",
      "source": [
        "Answer 3--------------------------> If an exception is thrown from the try block, even when there's no catch block to handle the exception, the finally block still executes, in which case the exception is still thrown immediately after the finally block finishes executing."
      ],
      "metadata": {
        "id": "0zT7MoUNhL4a"
      }
    },
    {
      "cell_type": "markdown",
      "source": [
        "Answer 4--------------------------> The use of bare except catches all exceptions indiscriminately – even the ones that you didn't expect and can crash our program. Furthermore, it doesn't give us any exceptions objects to inspect.By specifying a specific exception type we are limiting the try except block to only catch errors and exceptions specified by us. We will know exactly in which line or part of code our problem lies."
      ],
      "metadata": {
        "id": "MDm0kxxfhogY"
      }
    },
    {
      "cell_type": "markdown",
      "source": [
        "Answer 5--------------------------> In python nested try except finally blocks are allowed. We can take try-except-finally blocks inside try block. We can take try-except-finally blocks inside except block. We can take try-except-finally blocks inside finally block. Example is given below:"
      ],
      "metadata": {
        "id": "5V1kgFUvhqIR"
      }
    },
    {
      "cell_type": "code",
      "source": [
        "try:\n",
        "   print(\"outer try block\")\n",
        "   try:\n",
        "       print(\"Inner try block\")\n",
        "   except ZeroDivisionError:\n",
        "       print(\"Inner except block\")\n",
        "   finally:\n",
        "       print(\"Inner finally block\")\n",
        "except:\n",
        "   print(\"outer except block\")\n",
        "finally:\n",
        "   print(\"outer finally block\")"
      ],
      "metadata": {
        "id": "QMKO5HVijigY"
      },
      "execution_count": null,
      "outputs": []
    },
    {
      "cell_type": "markdown",
      "source": [
        "Answer 6--------------------------> We can use multiple exception blocks to catch multiple errors. Below is the example."
      ],
      "metadata": {
        "id": "YCFqUXfmhrfJ"
      }
    },
    {
      "cell_type": "code",
      "source": [
        "try:\n",
        "    a = 10\n",
        "    b= 0\n",
        "    c = \"abc\"\n",
        "    d =a+c\n",
        "# Zerodivision error\n",
        "except ZeroDivisionError:\n",
        "    # printing error\n",
        "    print(\"Zero Division Error occurs\")\n",
        "# index error\n",
        "except IndexError:\n",
        "    # printing\n",
        "    print(\"Index error occurs\")\n",
        "# type error\n",
        "except TypeError:\n",
        "    # printing\n",
        "    print(\"Type error occurs\")"
      ],
      "metadata": {
        "colab": {
          "base_uri": "https://localhost:8080/"
        },
        "id": "Z-8aXHbDlC8K",
        "outputId": "702d9b5e-030d-4cd9-d5c0-04f01298d24d"
      },
      "execution_count": 2,
      "outputs": [
        {
          "output_type": "stream",
          "name": "stdout",
          "text": [
            "Type error occurs\n"
          ]
        }
      ]
    },
    {
      "cell_type": "markdown",
      "source": [
        "Answer 7--------------------------> 1) **EOFError** occurs when there is no input or interruption while fetching the input or when the input() function reaches the unexpected end of the file. EOF means end of file.\n",
        "2) The **FloatingPointError**  indicates that something has gone wrong with a floating point calculation.\n",
        "3) The **IndexError** is an exception that occurs when trying to access an element in a list, tuple, or any other sequence using an index that is outside the valid range of indices for that sequence.\n",
        "4) A **MemoryError** means that the interpreter has run out of memory to allocate to your Python program.\n",
        "5) The **OverflowError** indicates that an arithmetic operation has exceeded the limits of the current Python runtime.\n",
        "6) **TabError**: inconsistent use of tabs and spaces in indentation\" occurs when we mix tabs and spaces in the same code block.\n",
        "7) **ValueError** occurs when a correct argument type but an incorrect value is supplied to a function."
      ],
      "metadata": {
        "id": "TyoXN1oJhtgx"
      }
    },
    {
      "cell_type": "markdown",
      "source": [
        "Answer 8-------------------------->"
      ],
      "metadata": {
        "id": "-ufkysn3huhA"
      }
    },
    {
      "cell_type": "code",
      "source": [
        "try:\n",
        "  n=int(input(\"Enter first number:\"))\n",
        "  d=int(input(\"Enter second number:\"))\n",
        "  result=n/d\n",
        "  print(\"Calculation result is\", result)\n",
        "except ZeroDivisionError:\n",
        "  print(\"You have divided the number by zero\")"
      ],
      "metadata": {
        "colab": {
          "base_uri": "https://localhost:8080/"
        },
        "id": "T5vZW9jkzDLp",
        "outputId": "be2afdf5-559d-481e-be8c-b71916ad429f"
      },
      "execution_count": 2,
      "outputs": [
        {
          "output_type": "stream",
          "name": "stdout",
          "text": [
            "Enter first number:5\n",
            "Enter second number:4\n",
            "Calculation result is 1.25\n"
          ]
        }
      ]
    },
    {
      "cell_type": "code",
      "source": [
        "try:\n",
        "  x=\"10\"\n",
        "  y=20\n",
        "  z=x+y\n",
        "  print(\"Calculation result is\",z)\n",
        "except TypeError:\n",
        "  print(\"Data Type mismatch\")"
      ],
      "metadata": {
        "colab": {
          "base_uri": "https://localhost:8080/"
        },
        "id": "otSiy-sezwh3",
        "outputId": "979156ab-c3ff-46a6-90a0-4d2a590bd50b"
      },
      "execution_count": 5,
      "outputs": [
        {
          "output_type": "stream",
          "name": "stdout",
          "text": [
            "Data Type mismatch\n"
          ]
        }
      ]
    },
    {
      "cell_type": "markdown",
      "source": [
        "To Convert string \"10\" we just need to write x= int(\"10\")"
      ],
      "metadata": {
        "id": "YUEmH5o90Zyp"
      }
    },
    {
      "cell_type": "code",
      "source": [
        "try:\n",
        "  list=[1,4,7,8,12,35,67]\n",
        "  print(list[7])\n",
        "except IndexError:\n",
        "  print(\"Index not present\")"
      ],
      "metadata": {
        "colab": {
          "base_uri": "https://localhost:8080/"
        },
        "id": "1uFX9TBs0tiX",
        "outputId": "a71a8a47-b829-4c30-ae17-60426fe41e9a"
      },
      "execution_count": 10,
      "outputs": [
        {
          "output_type": "stream",
          "name": "stdout",
          "text": [
            "Index not present\n"
          ]
        }
      ]
    },
    {
      "cell_type": "code",
      "source": [
        "class WrongAge(Exception):\n",
        "  pass\n",
        "n=18\n",
        "try:\n",
        "  input_num = int(input(\"Enter your age: \"))\n",
        "  if input_num<n:\n",
        "    raise WrongAge\n",
        "\n",
        "  else:\n",
        "    print(\"You can vote\")\n",
        "\n",
        "except:\n",
        "  print(\"You cannot vote\")"
      ],
      "metadata": {
        "colab": {
          "base_uri": "https://localhost:8080/"
        },
        "id": "KrfuY8WY2mxH",
        "outputId": "d7820601-f866-464a-af05-651be33a73d9"
      },
      "execution_count": 25,
      "outputs": [
        {
          "output_type": "stream",
          "name": "stdout",
          "text": [
            "Enter your age: 15\n",
            "You cannot vote\n"
          ]
        }
      ]
    },
    {
      "cell_type": "code",
      "source": [
        "try:\n",
        "  n=int(input(\"Enter first number:\"))\n",
        "  d=int(input(\"Enter second number:\"))\n",
        "  result=n/d\n",
        "  print(\"Calculation result is\", result)\n",
        "\n",
        "  #wrong data type error\n",
        "except (ZeroDivisionError):\n",
        "  print(\"You have divided the number by zero\")\n",
        "except (ValueError):\n",
        "  print(\"Please enter correct value\")\n",
        "except (TypeError):\n",
        "  print(\"Please enter a number\")\n",
        "except (IndexError):\n",
        "  print(\"No element found\")\n",
        "except (KeyError):\n",
        "  print(\"No key present\")\n",
        "except (FileNotFoundError):\n",
        "  print(\"File not found\")\n",
        "\n",
        "  #input/outpur error\n",
        "except (IOError):\n",
        "  print(\"Input Output error\")\n",
        "except (ImportError):\n",
        "  print(\"Failed to import\")\n",
        "except (MemoryError):\n",
        "  print(\"Encountered memory error\")\n",
        "except (AttributeError):\n",
        "  print(\"Found attribute error\")"
      ],
      "metadata": {
        "colab": {
          "base_uri": "https://localhost:8080/"
        },
        "id": "OdEFsA4S5bVh",
        "outputId": "0f1e51ce-f46e-4434-b717-008aca1dcf36"
      },
      "execution_count": 32,
      "outputs": [
        {
          "output_type": "stream",
          "name": "stdout",
          "text": [
            "Enter first number:10\n",
            "Enter second number:5\n",
            "Calculation result is 2.0\n"
          ]
        }
      ]
    },
    {
      "cell_type": "markdown",
      "source": [
        "We can type the error using parentheses and comma.\n",
        "\n",
        "> except (ZeroDivisionError,ValueError,IndexError.......)\n",
        "\n",
        "> But if we write like this we wont be able to output a customized print message.\n",
        "\n",
        "\n",
        "\n"
      ],
      "metadata": {
        "id": "QC6IROO18ME5"
      }
    },
    {
      "cell_type": "code",
      "source": [],
      "metadata": {
        "id": "H9VooWQf8jSb"
      },
      "execution_count": null,
      "outputs": []
    }
  ]
}