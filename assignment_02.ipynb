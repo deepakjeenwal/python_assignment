{
 "cells": [
  {
   "cell_type": "markdown",
   "id": "48c65f7d-862d-4e05-9b52-1f40a3ef1c00",
   "metadata": {},
   "source": [
    "Answer 1-----------------------> Two values of a boolean daya types are true(1) of false(0). We can assign these values to a variable using '='. For example x= True, or y= False."
   ]
  },
  {
   "cell_type": "markdown",
   "id": "b92c2e56-81c4-419c-ae24-ebe5ccc50f56",
   "metadata": {},
   "source": [
    "Answer 2-----------------------> In python, we have 3 types of boolean operators. These are AND , OR and NOT."
   ]
  },
  {
   "cell_type": "markdown",
   "id": "8c7d3172-14c5-413a-ba8e-651db902f5d1",
   "metadata": {},
   "source": [
    "Answer 3-----------------------> Lets Assume, there are two variables, X and Y. Boolean value and corrosponding truth table is given below:\n",
    "X      Y      AND     OR       NOT\n",
    "T      T       T      T         F\n",
    "F      F       F      F         F\n",
    "T      F       F      T\n",
    "F      T       F      T"
   ]
  },
  {
   "cell_type": "markdown",
   "id": "312f2513-ad14-4583-82ca-e14271e34ec8",
   "metadata": {},
   "source": [
    "Answer 4----------------------->(5>4) is true, (3==5) is false, not(5>4) is false, (5>4) or (3 == 5) is false, not((5>4) or (3==5)) is true, (True and True) and (True==False) is false, (not False) or (not True) is false."
   ]
  },
  {
   "cell_type": "markdown",
   "id": "7a912f72-6356-481c-8c2d-861de71c5ed8",
   "metadata": {},
   "source": [
    "Answer 5-----------------------> 6 comparison operators are: less than ( < ), less than or equal to ( <= ), greater than ( > ), greater than or equal to ( >= ), equal to ( == ), and not equal to ( != )"
   ]
  },
  {
   "cell_type": "markdown",
   "id": "473388da-89af-45ca-8167-a8c3b2e867af",
   "metadata": {},
   "source": [
    "Answer 6-----------------------> Equal to assignment is double equal to sign (==) where as assignment operator is single equal to (=) sign. If we want to assign a value to a variable, we use assignment operator (=), x=12. If we want to compare two variables, we use (==) opearator like a==b."
   ]
  },
  {
   "cell_type": "markdown",
   "id": "c1be2c7a-6a52-4768-966b-0901ba7f8cbe",
   "metadata": {},
   "source": [
    "Answer 7----------------------->Three blocks of codes are as follows:"
   ]
  },
  {
   "cell_type": "code",
   "execution_count": 24,
   "id": "41a80225-2e18-4e6c-ba0f-11932748a7f8",
   "metadata": {},
   "outputs": [],
   "source": [
    "spam = 0"
   ]
  },
  {
   "cell_type": "code",
   "execution_count": null,
   "id": "189826ad-c7ec-4298-8955-8c4c1d5efec4",
   "metadata": {},
   "outputs": [],
   "source": [
    "if spam == 10:\n",
    "    print('eggs')"
   ]
  },
  {
   "cell_type": "code",
   "execution_count": null,
   "id": "bc4e2fe8-8320-4d51-802b-a56e8cc3f4ba",
   "metadata": {},
   "outputs": [],
   "source": [
    "if spam >5:\n",
    "    print('bacon')\n",
    "else:\n",
    "    print('ham')\n",
    "    print('spam')\n",
    "    print('spam')"
   ]
  },
  {
   "cell_type": "markdown",
   "id": "9ee0d844-708f-4fce-8eae-f94689f7db33",
   "metadata": {},
   "source": [
    "Answer 8----------------------->"
   ]
  },
  {
   "cell_type": "code",
   "execution_count": null,
   "id": "2eecd638-af54-463c-824c-8be6791265bc",
   "metadata": {},
   "outputs": [],
   "source": [
    "spam=1\n",
    "if spam==1:\n",
    "    print (\"Hello\")\n",
    "elif spam==2:\n",
    "    print(\"Howdy\")\n",
    "else:\n",
    "    print(\"Greetings\")"
   ]
  },
  {
   "cell_type": "markdown",
   "id": "14c6b93b-1530-4181-93fb-08f81b0349f7",
   "metadata": {},
   "source": [
    "Answer 9-----------------------> We can press \"ctrl+c\" key to end an endless loop in python."
   ]
  },
  {
   "cell_type": "markdown",
   "id": "82d05f06-b7c3-40bb-8276-db1012a4d473",
   "metadata": {},
   "source": [
    "Answer 10----------------------->When the programme encounters a break keyword, it stops the execution of the current loop and passes the control to the next loop or body. When the programme encounters continue keyword, it skips the current iteration of the loop and executes the next iteration."
   ]
  },
  {
   "cell_type": "markdown",
   "id": "3eabd1af-a359-45fb-a1b8-6ea60ff4840b",
   "metadata": {},
   "source": [
    "Answer 11-----------------------> range(10) means values from 0 to 9. range(0,10) means range that starts from 0 and goes upto 9. range(0,10,1) means range starts from 0, goes till 9 with a step value of 1."
   ]
  },
  {
   "cell_type": "markdown",
   "id": "ec430923-ff5d-422a-91a5-b722fa3ec7c5",
   "metadata": {},
   "source": [
    "Answer 12----------------------->"
   ]
  },
  {
   "cell_type": "code",
   "execution_count": null,
   "id": "9793211a-84b9-486b-af94-d654c5f4c22f",
   "metadata": {},
   "outputs": [],
   "source": [
    "x=range(1,11)\n",
    "for i in x:\n",
    "    print(i)"
   ]
  },
  {
   "cell_type": "code",
   "execution_count": null,
   "id": "403e9c54-17e1-4a11-baae-a9f788771c3e",
   "metadata": {},
   "outputs": [],
   "source": [
    "i=1\n",
    "while i<11:\n",
    "    print(i)\n",
    "    i+=1"
   ]
  },
  {
   "cell_type": "markdown",
   "id": "8355e7b9-56b0-466c-a00b-7461c27e7183",
   "metadata": {},
   "source": [
    "Answer 13-----------------------> We can call it as spam.bacon()"
   ]
  }
 ],
 "metadata": {
  "kernelspec": {
   "display_name": "Python 3 (ipykernel)",
   "language": "python",
   "name": "python3"
  },
  "language_info": {
   "codemirror_mode": {
    "name": "ipython",
    "version": 3
   },
   "file_extension": ".py",
   "mimetype": "text/x-python",
   "name": "python",
   "nbconvert_exporter": "python",
   "pygments_lexer": "ipython3",
   "version": "3.10.6"
  }
 },
 "nbformat": 4,
 "nbformat_minor": 5
}
