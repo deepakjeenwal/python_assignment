{
  "nbformat": 4,
  "nbformat_minor": 0,
  "metadata": {
    "colab": {
      "provenance": []
    },
    "kernelspec": {
      "name": "python3",
      "display_name": "Python 3"
    },
    "language_info": {
      "name": "python"
    }
  },
  "cells": [
    {
      "cell_type": "markdown",
      "source": [
        "Answer 1---------------------->"
      ],
      "metadata": {
        "id": "SSZexQQLQjfQ"
      }
    },
    {
      "cell_type": "code",
      "execution_count": null,
      "metadata": {
        "colab": {
          "base_uri": "https://localhost:8080/"
        },
        "id": "4TAaLl1TCfzL",
        "outputId": "ecf3a83e-68b9-455a-e916-32ba5ed94986"
      },
      "outputs": [
        {
          "output_type": "stream",
          "name": "stdout",
          "text": [
            "The first variable is a=12 and second variable is b=8.\n",
            "Addition:12 + 8 = 20\n",
            "Substraction:12 - 8 = 4\n",
            "Multiplication::12 * 8 = 96\n",
            "Division::12 / 8 = 1.5\n"
          ]
        }
      ],
      "source": [
        "a = 12\n",
        "b = 8\n",
        "sum=a+b\n",
        "substraction= a-b\n",
        "multiplication = a*b\n",
        "devision = a/b\n",
        "print(f\"The first variable is a={a} and second variable is b={b}.\")\n",
        "print(f\"Addition:{a} + {b} = {sum}\")\n",
        "print(f\"Substraction:{a} - {b} = {substraction}\")\n",
        "print(f\"Multiplication::{a} * {b} = {multiplication}\")\n",
        "print(f\"Division::{a} / {b} = {devision}\")"
      ]
    },
    {
      "cell_type": "markdown",
      "source": [
        "Answer 2---------------------->\n",
        "1)'/' operator is used for division operation. If we use this operator, we get an exact output in decimals. '//' operator is used for floor division operation. Here we will get the output as a whole number and floor value of it. For example, if we divide 15 by 2, but instead of 7.5, we will get 7.\n",
        "\n",
        "\n",
        "> 2)'\\*\\*' is an exponentiation operator. Here, 2**5 is same as 2*\\*2\\*2\\*2\\*2.\n",
        "'^' is logical biwise operator which resolves to 1 if either of the operands is 1 but not both operands are 1 or 0.\n",
        "\n",
        "\n"
      ],
      "metadata": {
        "id": "Qv04Pf9LM_qW"
      }
    },
    {
      "cell_type": "markdown",
      "source": [
        "Answer 3----------------------> There are 3 logical operators in Python. 'AND','OR', and 'NOT'. AND returns  True  if both x and y are true. OR returns  True  if either x or y are true. NOT reverses a result, so if something is  True ,\n",
        "not turns it  False."
      ],
      "metadata": {
        "id": "sTtSPVYrQ74t"
      }
    },
    {
      "cell_type": "markdown",
      "source": [
        "Answer 4----------------------> Bitwise right shift operator (>>) moves the left operand's value toward right by the number of bits specified by the right operand. Here, if we perform 8 >> 2, If we move each bit 2 times to the right, 8 becomes 2:\n",
        " 8 = 0000000000001000\n",
        "becomes\n",
        " 2 = 0000000000000010\n",
        "\n",
        "> Bitwise left  shift operator(<<) moves the left operand's value toward left by the number of bits specified by the right operand.\n",
        "Here, if we perform 3 << 2, If we push 00 in from the left:\n",
        " 3 = 0000000000000011\n",
        "becomes\n",
        "12 = 0000000000001100\n",
        "\n"
      ],
      "metadata": {
        "id": "f6ftUqBASnIu"
      }
    },
    {
      "cell_type": "markdown",
      "source": [
        "Answer 5---------------------->"
      ],
      "metadata": {
        "id": "Q66maCYlT7EF"
      }
    },
    {
      "cell_type": "code",
      "source": [
        "number_list=[ 12, 15, 12, 58, 65, 24, 25, 10, 7 ]\n",
        "a=10\n",
        "if a in number_list:\n",
        "    print(\"No.10 exist\")\n",
        "else:\n",
        "    print(\"No.10 does not exist\")"
      ],
      "metadata": {
        "colab": {
          "base_uri": "https://localhost:8080/"
        },
        "id": "rRtYm1q8WA3u",
        "outputId": "6a11dad7-2673-4a28-da8b-8fcb0c8be528"
      },
      "execution_count": 5,
      "outputs": [
        {
          "output_type": "stream",
          "name": "stdout",
          "text": [
            "No.10 exist\n"
          ]
        }
      ]
    }
  ]
}